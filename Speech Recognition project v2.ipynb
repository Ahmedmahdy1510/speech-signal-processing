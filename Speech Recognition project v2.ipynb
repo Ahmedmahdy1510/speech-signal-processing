{
 "cells": [
  {
   "cell_type": "code",
   "execution_count": 2,
   "id": "5dceb27d",
   "metadata": {},
   "outputs": [
    {
     "name": "stdout",
     "output_type": "stream",
     "text": [
      "Speak now...\n",
      "Transcribing...\n",
      "You said: hi my name is Roy and I live in Egypt\n",
      "Accuracy: 16.216216216216218 %\n"
     ]
    }
   ],
   "source": [
    "import speech_recognition as sr\n",
    "import Levenshtein\n",
    "\n",
    "def calculate_accuracy(original_text, transcribed_text):\n",
    "    edit_distance = Levenshtein.distance(original_text, transcribed_text)\n",
    "    max_length = max(len(original_text), len(transcribed_text))\n",
    "    accuracy = (1 - (edit_distance / max_length)) * 100\n",
    "    return accuracy\n",
    "\n",
    "# Define the original text to compare the transcribed text against\n",
    "original_text = \"Hello, how are you?\"\n",
    "\n",
    "# Create a recognizer object from the speech_recognition library\n",
    "recognizer = sr.Recognizer()\n",
    "\n",
    "# Use the default microphone as the audio source\n",
    "with sr.Microphone() as source:\n",
    "    # Prompt the user to speak\n",
    "    print(\"Speak now...\")\n",
    "    \n",
    "    # Record audio from the microphone for 10 seconds\n",
    "    # Store the audio data in the audio_data variable\n",
    "    audio_data = recognizer.record(source, duration=10)  \n",
    "    \n",
    "    # Print a message to indicate that the transcription is in progress\n",
    "    print(\"Transcribing...\")\n",
    "    \n",
    "    # Try to recognize the speech in the audio data using Google Speech Recognition API\n",
    "    try:\n",
    "        # Call the recognize_google() method of the recognizer object to transcribe the audio to text\n",
    "        # Pass the audio_data and the language parameter 'en-US' to the recognize_google() method\n",
    "        transcribed_text = recognizer.recognize_google(audio_data, language='en-US')\n",
    "        \n",
    "        # Print the transcribed text to the console\n",
    "        print(\"You said:\", transcribed_text)\n",
    "        \n",
    "        # Calculate the accuracy of the transcription and print it to the console\n",
    "        accuracy = calculate_accuracy(original_text, transcribed_text)\n",
    "        print(\"Accuracy:\", accuracy, \"%\")\n",
    "        \n",
    "    # If an unknown value error occurs, print a message indicating that the speech could not be understood\n",
    "    except sr.UnknownValueError:\n",
    "        print(\"Sorry, I couldn't understand what you said.\")\n",
    "    \n",
    "    # If a request error occurs, print an error message with the details of the error\n",
    "    except sr.RequestError as e:\n",
    "        print(f\"Could not request results from Google Speech Recognition service; {e}\")\n"
   ]
  },
  {
   "cell_type": "code",
   "execution_count": null,
   "id": "ed1397c4",
   "metadata": {},
   "outputs": [],
   "source": []
  },
  {
   "cell_type": "code",
   "execution_count": null,
   "id": "755447d0",
   "metadata": {},
   "outputs": [],
   "source": []
  }
 ],
 "metadata": {
  "kernelspec": {
   "display_name": "Python 3 (ipykernel)",
   "language": "python",
   "name": "python3"
  },
  "language_info": {
   "codemirror_mode": {
    "name": "ipython",
    "version": 3
   },
   "file_extension": ".py",
   "mimetype": "text/x-python",
   "name": "python",
   "nbconvert_exporter": "python",
   "pygments_lexer": "ipython3",
   "version": "3.10.9"
  }
 },
 "nbformat": 4,
 "nbformat_minor": 5
}
